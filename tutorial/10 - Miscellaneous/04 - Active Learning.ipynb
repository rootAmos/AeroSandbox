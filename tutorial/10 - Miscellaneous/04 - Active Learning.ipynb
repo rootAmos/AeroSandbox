{
 "cells": [
  {
   "cell_type": "code",
   "execution_count": 1,
   "id": "7b3743a6",
   "metadata": {},
   "outputs": [
    {
     "name": "stderr",
     "output_type": "stream",
     "text": [
      "C:\\Users\\alexa\\AppData\\Roaming\\Python\\Python313\\site-packages\\tqdm\\auto.py:21: TqdmWarning: IProgress not found. Please update jupyter and ipywidgets. See https://ipywidgets.readthedocs.io/en/stable/user_install.html\n",
      "  from .autonotebook import tqdm as notebook_tqdm\n"
     ]
    }
   ],
   "source": [
    "import numpy as np\n",
    "import scipy.stats\n",
    "import torch\n",
    "from botorch import acquisition, sampling\n",
    "from botorch.acquisition.objective import ScalarizedPosteriorTransform, ConstrainedMCObjective\n",
    "from botorch.fit import fit_gpytorch_mll\n",
    "from botorch.models import SingleTaskGP\n",
    "from botorch.models.transforms import Normalize\n",
    "from botorch.optim import optimize_acqf\n",
    "from botorch.utils.multi_objective.box_decompositions import FastNondominatedPartitioning\n",
    "from gpytorch.mlls import ExactMarginalLogLikelihood\n",
    "from tqdm.notebook import trange\n",
    "\n",
    "device = \"cuda:0\"\n",
    "torch.set_default_device(device)\n",
    "\n",
    "def array(x: torch.Tensor) -> np.ndarray:\n",
    "    return x.detach().cpu().numpy()"
   ]
  },
  {
   "cell_type": "code",
   "execution_count": 2,
   "id": "86bde89d",
   "metadata": {},
   "outputs": [],
   "source": [
    "default_a = 15.0 \n",
    "default_b = 2.0 \n",
    "default_noise = 0.2\n",
    "\n",
    "def example_1d_function(\n",
    "    x: torch.Tensor, a: float = default_a, b: float = default_b\n",
    ") -> torch.Tensor:\n",
    "    \"\"\"Ground truth function.\"\"\" \n",
    "    return torch.sin(a * x) + b * x**2\n",
    "\n",
    "def example_noisy_1d_function(\n",
    "    x: torch.Tensor, a: float = default_a, b: float = default_b, noise: float = default_noise\n",
    ") -> torch.Tensor:\n",
    "    \"\"\"Noisy ground truth observations.\"\"\"\n",
    "    return example_1d_function(x, a, b) + noise * torch.randn_like(x)"
   ]
  }
 ],
 "metadata": {
  "kernelspec": {
   "display_name": "al",
   "language": "python",
   "name": "python3"
  },
  "language_info": {
   "codemirror_mode": {
    "name": "ipython",
    "version": 3
   },
   "file_extension": ".py",
   "mimetype": "text/x-python",
   "name": "python",
   "nbconvert_exporter": "python",
   "pygments_lexer": "ipython3",
   "version": "3.13.5"
  }
 },
 "nbformat": 4,
 "nbformat_minor": 5
}
