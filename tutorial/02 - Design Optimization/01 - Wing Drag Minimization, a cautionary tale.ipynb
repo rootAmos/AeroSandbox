{
 "cells": [
  {
   "cell_type": "markdown",
   "metadata": {
    "collapsed": false
   },
   "source": [
    "# Wing Drag Minimization, a cautionary tale\n",
    "\n",
    "Let's review before continuing. We've gone through how the `Opti` stack works and how you can use `aerosandbox.numpy`\n",
    "to create complex nonlinear expressions.\n",
    "\n",
    "Now, let's put it to use on something a bit more practical than just a math problem.\n",
    "\n",
    "Let's use some classical aircraft design formulas to minimize the drag on a wing.\n",
    "\n",
    "Let's say we have a payload of known mass that we want to lift, so we want to design a wing that can provide the\n",
    "required lift force with as little drag as possible. For pedagogical purposes, assume the wing has no mass and assume\n",
    "the wing is rectangular.\n"
   ]
  },
  {
   "cell_type": "code",
   "execution_count": null,
   "metadata": {
    "collapsed": false,
    "is_executing": true,
    "pycharm": {
     "name": "#%%\n"
    }
   },
   "outputs": [],
   "source": [
    "import aerosandbox as asb\n",
    "import aerosandbox.numpy as np\n",
    "\n",
    "# Let's define some constants.\n",
    "density = 1.225  # Note: AeroSandbox uses base SI units (or derived units thereof) everywhere, with no exceptions.\n",
    "viscosity = 1.81e-5  # So the units here are kg/(m*s).\n",
    "weight = 100  # 100 N, corresponding to the weight of around 10 kg.\n",
    "\n",
    "# Time to start constructing our problem!\n",
    "opti = asb.Opti()\n",
    "\n",
    "aspect_ratio = opti.variable(init_guess=10, log_transform=True)  # as an experiment, let's leave this unbounded.\n",
    "wing_area = opti.variable(init_guess=1, log_transform=True)\n"
   ]
  },
  {
   "cell_type": "markdown",
   "metadata": {
    "collapsed": false
   },
   "source": [
    "A couple interesting things to note, right off the bat!\n",
    "\n",
    "-----\n",
    "\n",
    "First of all, we chose to parameterize the wing sizing with the parameters of aspect ratio and wing area. The\n",
    "combination of these two variables uniquely determine the size and shape of our wing planform (recall that the wing\n",
    "is assumed to be rectangular).\n",
    "\n",
    "However, wing span and wing chord could also uniquely determine wing sizing. Why didn't we use those two as our\n",
    "variables?\n",
    "\n",
    "Honestly, the truth is that we could, and we would have been totally fine. The aspect ratio - wing area\n",
    "parameterization is perhaps a hair nicer because:\n",
    "\n",
    "1. One of our parameters, aspect ratio, is a nondimensional parameter - this can help eliminate scaling issues.\n",
    "\n",
    "2. We have some engineering intuition that quantities of interest, such as lift force and induced drag, are perhaps more directly connected in some sense to aspect ratio and wing area than chord and span.\n",
    "\n",
    "However, like I said, it really doesn't matter too much - just interesting observations.\n",
    "\n",
    "-----\n",
    "\n",
    "The second interesting thing is that we chose to log-transform these variables. This basically means that internally,\n",
    "the optimizer is really optimizing `log(wing area)` rather than the wing area itself.\n",
    "\n",
    "One implication of this is that wing area can never go negative (whereas if we had specified it as a normal\n",
    "optimization variable, nothing would prevent it from going negative unless we manually constrained it.) Of course,\n",
    "wing area should always be positive anyway, so this isn't a bad thing - in fact, it saves us one constraint. Just an\n",
    "important observation.\n",
    "\n",
    "Log-transforming has some pros and cons, although its usefulness can vary widely problem-to-problem. Some general\n",
    "notes:\n",
    "\n",
    "Pros:\n",
    "\n",
    "* A lot of engineering problems become convex or more-convex when log-transformed, which can lead to faster,\n",
    "more stable solutions and global optimality guarantees (although this requires one to first prove convexity,\n",
    "which isn't easily without something like Disciplined Convex Programming, which can be overly restrictive.) For more\n",
    "on this idea of log-transforming engineering problems, see work by former MIT Prof. Hoburg here:\n",
    "https://www2.eecs.berkeley.edu/Pubs/TechRpts/2015/EECS-2015-22.html .\n",
    "\n",
    "* Many scaling issues disappear under log-transformation, as many orders of magnitude can be spanned with relatively\n",
    "little change in the underlying log-transformed variable.\n",
    "\n",
    "* We more faithfully represent our design intent. If we think about how \"significant\" a design change is, we usually\n",
    "think multiplicatively, whether we realize it or not. A 10% drag decrease is roughly equally significant if our\n",
    "previous drag was 100 N as if it were 1e6 N. But if someone instead says \"We decreased drag by 1000 N\", your first\n",
    "question is probably \"Well what was it before?\".\n",
    "\n",
    "* You get rid of one constraint for quantities that need to be positive, as you've transformed your constrained\n",
    "problem into an unconstrained one.\n",
    "\n",
    "Cons:\n",
    "\n",
    "* Log-transformation is yet another nonlinearity, so it can make the problem more difficult to solve. This is a big\n",
    "one, especially on large (thousands of variables w/ nonlinear shenanigans) problems.\n",
    "\n",
    "* If the optimal value of a variable goes to zero or negative, the log-transformed problem will a) not be correct and\n",
    "b) probably report that the problem is unbounded.\n",
    "\n",
    "All in all, I find that it's usually best to start without using log-transforms, and to add it in later if need be.\n",
    "We're using it in this example mostly just for illustration and to introduce the concept.\n",
    "\n",
    "Let's continue, and while we're at it, let's show how you can automatically bound a variable at initialization time."
   ]
  },
  {
   "cell_type": "code",
   "execution_count": 3,
   "metadata": {
    "collapsed": false,
    "pycharm": {
     "name": "#%%\n"
    }
   },
   "outputs": [],
   "source": [
    "\n",
    "# We don't know the best airspeed to fly at, so let's make that an unknown, too.\n",
    "airspeed = opti.variable(init_guess=30, lower_bound=0) # See the following comment block\n"
   ]
  },
  {
   "cell_type": "markdown",
   "metadata": {
    "collapsed": false
   },
   "source": [
    "\n",
    "Airspeed is a quantity that should always be positive - we could have log-transformed this! Here, we invoke a new\n",
    "parameter (`lower_bound`) to illustrate that you can apply a lower bound of zero without log-transforming your problem.\n",
    "\n",
    "A functionally-identical way to represent this would be to declare airspeed as a variable (without the `lower_bound`\n",
    "flag) and then to add in `opti.subject_to(airspeed > 0)`."
   ]
  },
  {
   "cell_type": "code",
   "execution_count": 4,
   "metadata": {
    "collapsed": false,
    "pycharm": {
     "name": "#%%\n"
    }
   },
   "outputs": [
    {
     "name": "stdout",
     "output_type": "stream",
     "text": [
      "This is Ipopt version 3.12.3, running with linear solver mumps.\n",
      "NOTE: Other linear solvers might be more efficient (see Ipopt documentation).\n",
      "\n",
      "Number of nonzeros in equality constraint Jacobian...:        0\n",
      "Number of nonzeros in inequality constraint Jacobian.:        5\n",
      "Number of nonzeros in Lagrangian Hessian.............:        6\n",
      "\n",
      "Total number of variables............................:        3\n",
      "                     variables with only lower bounds:        0\n",
      "                variables with lower and upper bounds:        0\n",
      "                     variables with only upper bounds:        0\n",
      "Total number of equality constraints.................:        0\n",
      "Total number of inequality constraints...............:        3\n",
      "        inequality constraints with only lower bounds:        2\n",
      "   inequality constraints with lower and upper bounds:        0\n",
      "        inequality constraints with only upper bounds:        1\n",
      "\n",
      "iter    objective    inf_pr   inf_du lg(mu)  ||d||  lg(rg) alpha_du alpha_pr  ls\n",
      "   0 1.4910354e+000 0.00e+000 9.92e-001   0.0 0.00e+000    -  0.00e+000 0.00e+000   0\n",
      "   1 6.8194268e-001 0.00e+000 1.41e+000  -0.4 2.77e+001    -  9.90e-001 1.00e+000f  1\n",
      "   2 7.1600189e-001 0.00e+000 2.19e-001  -1.9 1.71e+000    -  1.00e+000 1.00e+000h  1\n",
      "   3 6.7365673e-001 0.00e+000 3.94e-002  -3.4 2.86e+000    -  1.00e+000 1.00e+000h  1\n",
      "   4 6.4640453e-001 0.00e+000 1.38e-003  -4.1 1.43e+000  -4.0 1.00e+000 1.00e+000h  1\n",
      "   5 6.4568026e-001 0.00e+000 2.07e-005  -4.8 1.24e-001  -4.5 1.00e+000 9.99e-001h  1\n",
      "   6 6.4567833e-001 1.53e-009 1.45e-008 -10.9 3.10e-003    -  1.00e+000 1.00e+000h  1\n",
      "   7 6.4567822e-001 5.13e-007 5.66e-007 -11.0 2.01e-002    -  1.00e+000 1.00e+000h  1\n",
      "   8 6.4567833e-001 3.11e-010 4.04e-010 -11.0 5.29e-004    -  1.00e+000 1.00e+000h  1\n",
      "\n",
      "Number of Iterations....: 8\n",
      "\n",
      "                                   (scaled)                 (unscaled)\n",
      "Objective...............:  6.4567832792259938e-001   6.4567832792259938e-001\n",
      "Dual infeasibility......:  4.0404257717341352e-010   4.0404257717341352e-010\n",
      "Constraint violation....:  3.1062996619368732e-010   3.1062996619368732e-010\n",
      "Complementarity.........:  1.0000014800717905e-011   1.0000014800717905e-011\n",
      "Overall NLP error.......:  4.0404257717341352e-010   4.0404257717341352e-010\n",
      "\n",
      "\n",
      "Number of objective function evaluations             = 9\n",
      "Number of objective gradient evaluations             = 9\n",
      "Number of equality constraint evaluations            = 0\n",
      "Number of inequality constraint evaluations          = 9\n",
      "Number of equality constraint Jacobian evaluations   = 0\n",
      "Number of inequality constraint Jacobian evaluations = 9\n",
      "Number of Lagrangian Hessian evaluations             = 8\n",
      "Total CPU secs in IPOPT (w/o function evaluations)   =      0.007\n",
      "Total CPU secs in NLP function evaluations           =      0.001\n",
      "\n",
      "EXIT: Optimal Solution Found.\n",
      "      solver  :   t_proc      (avg)   t_wall      (avg)    n_eval\n",
      "       nlp_f  |        0 (       0)        0 (       0)         9\n",
      "       nlp_g  |        0 (       0)        0 (       0)         9\n",
      "  nlp_grad_f  |        0 (       0)        0 (       0)        10\n",
      "  nlp_hess_l  |        0 (       0)        0 (       0)         8\n",
      "   nlp_jac_g  |   1.00ms (100.00us) 997.00us ( 99.70us)        10\n",
      "       total  |   8.00ms (  8.00ms)   7.98ms (  7.98ms)         1\n",
      "Minimum drag = 0.6456783279225994 N\n",
      "Aspect ratio = 295.7911475896992\n",
      "Wing area = 0.1444079645591969 m^2\n"
     ]
    }
   ],
   "source": [
    "span = (aspect_ratio * wing_area) ** 0.5  # Equivalent to saying: AR = b^2 / S\n",
    "chord = span / aspect_ratio\n",
    "\n",
    "dynamic_pressure = 0.5 * density * airspeed ** 2  # Definition of dynamic pressure\n",
    "lift = weight  # This must be true in steady level flight\n",
    "CL = lift / dynamic_pressure / wing_area  # Definition of lift coefficient\n",
    "\n",
    "Re = density * airspeed * chord / viscosity  # Definition of Reynolds number\n",
    "CD_profile = 1.328 * Re ** -0.5  # A rudimentary model of profile drag based on the Blasius solution for flat plate flow.\n",
    "CD_induced = CL ** 2 / (np.pi * aspect_ratio)  # Textbook equation for induced drag, assuming optimal lift distribution.\n",
    "CD = CD_profile + CD_induced\n",
    "drag = dynamic_pressure * wing_area * CD\n",
    "\n",
    "opti.subject_to([\n",
    "    CL < 1.2,  # Stall condition\n",
    "    CL > -1.2  # Stall condition\n",
    "])\n",
    "\n",
    "opti.minimize(drag)\n",
    "\n",
    "sol = opti.solve()\n",
    "\n",
    "aspect_ratio_opt = sol(aspect_ratio)\n",
    "wing_area_opt = sol(wing_area)\n",
    "drag_opt = sol(drag)\n",
    "\n",
    "print(f\"Minimum drag = {drag_opt} N\")\n",
    "print(f\"Aspect ratio = {aspect_ratio_opt}\")\n",
    "print(f\"Wing area = {wing_area_opt} m^2\")"
   ]
  },
  {
   "cell_type": "markdown",
   "metadata": {
    "collapsed": false
   },
   "source": [
    "Let's observe a few things here.\n",
    "\n",
    "We're finding a minimum achievable drag of 0.646 N, an aspect ratio of 296, and a wing area of $0.14\\ m^2$.\n",
    "\n",
    "What kind of lift-to-drag ratio does that correspond to? Recall that we can evaluate expressions with `sol()`:"
   ]
  },
  {
   "cell_type": "code",
   "execution_count": 5,
   "metadata": {
    "collapsed": false,
    "pycharm": {
     "name": "#%%\n"
    }
   },
   "outputs": [
    {
     "name": "stdout",
     "output_type": "stream",
     "text": [
      "L/D = 154.87588118644038\n"
     ]
    }
   ],
   "source": [
    "L_over_D_opt = sol(lift / drag)\n",
    "print(f\"L/D = {L_over_D_opt}\")"
   ]
  },
  {
   "cell_type": "markdown",
   "metadata": {
    "collapsed": false
   },
   "source": [
    "That's saying we can get an $L/D$ of 155! Either that's an incorrect answer or we're about to be the next FAI glider\n",
    "champions of the world.\n",
    "\n",
    "So what's going on? Is the optimizer giving us the wrong answer? NO! The optimizer is giving us the correct answer, it's just that we've inadvertently asked it the wrong problem.\n",
    "\n",
    "Why is this \"the wrong problem\"? Because our models and assumptions are inaccurate. Specifically, what are our\n",
    "problems?\n",
    "\n",
    "* We assumed the wing contributes no mass to the airplane. So, does that mean if we accounted for wing mass,\n",
    "we would get realistic solutions? Well, perhaps - it would depend how we implemented that wing mass model. If we just\n",
    "added mass proportional to wing area, the answer would be no. We need to add wing mass as a function of span *and aspect ratio*,\n",
    "because *this is the reason why we wouldn't actually build a wing with an aspect ratio of 296* (and perhaps also add\n",
    "flutter constraints).\n",
    "\n",
    "* Our wing profile drag model is quite poor; there is no dependency of wing profile drag on the wing lift\n",
    "coefficient. In addition, the induced drag is driven to essentially zero due to the absurdly high aspect ratio of 296. Because of this, drag is essentially independent of $C_L$, and our wing is always optimizing to a $C_L$ of 1.2 - the very maximum that we allowed. That\n",
    "makes sense - if you're going to eat the same drag penalty regardless of $C_L$, you might as well get all the lift you can if it doesn't cost\n",
    "you anything.\n",
    "\n",
    "A good guideline when you get an unrealistic solution is to look at it and ask yourself \"Okay, why *wouldn't* this\n",
    "design actually work in real life?\". Usually, that will point you towards a constraint that you forgot to add or an\n",
    "assumption that you made (or didn't even realize you made) that was violated.\n",
    "\n",
    "This is probably the single most important lesson before continuing with design optimization - the optimizer is only\n",
    "as good as the models and assumptions you give it, and the optimizer will happily exploit any flaws in your model to\n",
    "give you an unrealistic solution. Your models and assumptions need to be bulletproof before you give them to the\n",
    "optimizer.\n",
    "\n",
    "If a weird-looking answer is found, 99 times out of a 100, it's a problem with the way the question was posed,\n",
    "not the optimizer itself.\n",
    "\n",
    "So, how could we ask the correct question? That's what we'll explore in the next tutorial section!"
   ]
  }
 ],
 "metadata": {
  "kernelspec": {
   "display_name": "Python 3",
   "language": "python",
   "name": "python3"
  },
  "language_info": {
   "codemirror_mode": {
    "name": "ipython",
    "version": 2
   },
   "file_extension": ".py",
   "mimetype": "text/x-python",
   "name": "python",
   "nbconvert_exporter": "python",
   "pygments_lexer": "ipython2",
   "version": "2.7.6"
  }
 },
 "nbformat": 4,
 "nbformat_minor": 0
}
